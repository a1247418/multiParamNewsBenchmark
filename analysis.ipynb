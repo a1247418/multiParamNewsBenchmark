{
 "cells": [
  {
   "cell_type": "code",
   "execution_count": null,
   "metadata": {
    "collapsed": true
   },
   "outputs": [],
   "source": [
    "import sys\n",
    "import random\n",
    "import logging\n",
    "import config\n",
    "import numpy as np\n",
    "import matplotlib.pyplot as plt"
   ]
  },
  {
   "cell_type": "code",
   "execution_count": null,
   "metadata": {
    "collapsed": false
   },
   "outputs": [],
   "source": [
    "data = np.load(open(\"simulation_outcome.train111_0.npy\", 'rb'))[()]"
   ]
  },
  {
   "cell_type": "code",
   "execution_count": null,
   "metadata": {
    "collapsed": false
   },
   "outputs": [],
   "source": [
    "'''\n",
    "Check shapes of the data.\n",
    "'''\n",
    "print(\"Keys: \",', '.join([key for key in data.keys()]), \"\\n\")\n",
    "for key in data.keys():\n",
    "    if type(data[key]) is np.ndarray: \n",
    "        print(\"Shape %-11s %s\" % (key, str(data[key].shape)))"
   ]
  },
  {
   "cell_type": "code",
   "execution_count": null,
   "metadata": {
    "collapsed": false
   },
   "outputs": [],
   "source": [
    "'''\n",
    "Load data into variables for nicer access.\n",
    "'''\n",
    "z = data['z']\n",
    "c = data['centroids_z']\n",
    "s = data['s']\n",
    "mu = data['mu'][:,:]\n",
    "y = data['y'][:,:]\n",
    "x = data['x'][:,:]\n",
    "t = data['t'][:]\n",
    "n_treatments = c.shape[0]\n",
    "n_samples = z.shape[0]\n",
    "\n",
    "for i in range(3):\n",
    "    print(\"Nr t=%d: %d\" % (i, sum(t==i)))\n",
    "    "
   ]
  },
  {
   "cell_type": "code",
   "execution_count": null,
   "metadata": {
    "collapsed": false
   },
   "outputs": [],
   "source": [
    "'''\n",
    "Dot product to centroid in topic space. \n",
    "Used for treatment assignment and outcome calculation.\n",
    "'''\n",
    "dist = np.zeros([n_treatments, n_samples])\n",
    "for i in range(n_treatments):\n",
    "    dist[i] = [np.dot(c[i],j) for j in z]"
   ]
  },
  {
   "cell_type": "code",
   "execution_count": null,
   "metadata": {
    "collapsed": false,
    "scrolled": false
   },
   "outputs": [],
   "source": [
    "plt.rcParams['figure.figsize'] = (20.0, 7.0)\n",
    "\n",
    "for i in range(1,n_treatments):\n",
    "    if data[\"treatment_types\"][i-1] > 0:\n",
    "        print(\"Treatment %d\" % i)\n",
    "        print(\"Min treatment strength: \"+str(min(s[:,i])))\n",
    "        print(\"Max treatment strength: \"+str(max(s[:,i])))\n",
    "\n",
    "        plt.subplot(131)\n",
    "        plt.hist(s[:,i], bins=30, alpha=0.5, label='s')\n",
    "        plt.xlabel('Treatment strength')\n",
    "        plt.ylabel('Count')\n",
    "\n",
    "        plt.subplot(132)\n",
    "        plt.plot(dist[i], s[:,i], 'o', alpha=0.5)\n",
    "        plt.xlabel('Dot-product to centroid')\n",
    "        plt.ylabel('Treatment strength for t=%d' % i)\n",
    "\n",
    "        plt.subplot(133)\n",
    "        plt.plot(mu[:,i], s[:,i], 'o', alpha=0.5)\n",
    "        plt.xlabel('True outcome')\n",
    "        plt.ylabel('Treatment strength for t=%d' % i)\n",
    "\n",
    "        \n",
    "        plt.show()\n",
    "\n",
    "for i in range(n_treatments):\n",
    "    print(\"Treatment %d\" % i)\n",
    "    plt.subplot(121)\n",
    "    plt.hist(mu[:,i], bins=np.arange(-3,10,0.5), alpha=0.3, label='mu'+str(i)+\" (True)\")\n",
    "    plt.hist(y[:,i], bins=np.arange(-3,10,0.5), alpha=0.3, label='y'+str(i)+\" (Noisy)\")\n",
    "    plt.xlabel('Outcome')\n",
    "    plt.ylabel('Count')\n",
    "    plt.legend()\n",
    "\n",
    "    plt.subplot(122)\n",
    "    plt.plot(dist[i], mu[:,i],'o', alpha=0.05, label='mu'+str(i)+\" (True)\", marker='.')\n",
    "    plt.plot(dist[i], y[:,i],'o', alpha=0.05, label='y'+str(i)+\" (Noisy)\", marker='.')\n",
    "    plt.xlabel('Dot-product to centroid')\n",
    "    plt.ylabel('Outcome')\n",
    "    plt.legend()\n",
    "\n",
    "    plt.show()"
   ]
  },
  {
   "cell_type": "code",
   "execution_count": null,
   "metadata": {
    "collapsed": false
   },
   "outputs": [],
   "source": [
    "mu_f = mu[np.arange(n_samples), t.astype(int)]\n",
    "plt.figure()\n",
    "plt.title(\"Comparison (true) treatment outcome factual vs counterfactual\")\n",
    "plt.hist(mu_f, alpha=0.3, label=\"Factual\")\n",
    "for i in range(1, n_treatments):\n",
    "    mu_cf = mu[np.arange(n_samples), np.mod(t+i,n_treatments).astype(int)]\n",
    "    plt.hist(mu_cf, alpha=0.3, label=\"Counterfactual option\"+str(i))\n",
    "plt.xlabel('Outcome')\n",
    "plt.ylabel('Count')\n",
    "plt.legend()\n",
    "plt.show()\n",
    "print(\"Since treatment decision is based on knowledged, outcome is generally higher for the factual group.\")"
   ]
  },
  {
   "cell_type": "code",
   "execution_count": null,
   "metadata": {
    "collapsed": false
   },
   "outputs": [],
   "source": [
    "from sklearn.decomposition import PCA\n",
    "from sklearn.manifold import TSNE\n",
    "\n",
    "def plot_DR(data, centroids, space_name, algo=\"pca\"):\n",
    "    x = data\n",
    "    c_x = centroids \n",
    "    n_treatments = len(centroids)\n",
    "    \n",
    "    print(\"#centroids = %d\" % len(c_x))\n",
    "    print(\"dimension of centroids = %d\" % len(c_x[0]))\n",
    "    if algo is \"pca\":\n",
    "        pca = PCA(n_components=2)\n",
    "        pca = pca.fit(x)\n",
    "        x_r = pca.transform(x)\n",
    "        centroids_r = pca.transform(c_x)\n",
    "\n",
    "    elif algo is \"tsne\":\n",
    "        tsne = TSNE(n_components=2)\n",
    "        tsne = tsne.fit_transform( np.concatenate((data, centroids)) )\n",
    "        x_r = tsne[:-n_treatments,:]\n",
    "        centroids_r = tsne[-n_treatments:,:]\n",
    "    \n",
    "    plt.figure()\n",
    "\n",
    "    cmap_data = plt.cm.get_cmap('Paired')\n",
    "    colors = [cmap_data(i*2+1) for i in range(n_treatments)]\n",
    "    \n",
    "    for color, i, target_name in zip(colors, np.arange(n_treatments), [\"t\"+str(i) for i in range(n_treatments)]):\n",
    "        plt.scatter(x_r[t == i,0], x_r[t == i,1], color=color, alpha=0.8, lw=2, label=target_name, marker='.')\n",
    "    \n",
    "    for color, i, target_name in zip(colors, np.arange(n_treatments), [\"centroid\"+str(i) for i in range(n_treatments)]):\n",
    "        centroid_r = centroids_r[i]\n",
    "        plt.scatter(centroid_r[0], centroid_r[1], color=color, lw=1, label=target_name, marker='D', edgecolors='b')\n",
    "    \n",
    "    plt.legend(loc='best', shadow=False, scatterpoints=1)\n",
    "    plt.title(algo + ' of topics in ' + space_name)\n",
    "    plt.show()\n",
    "    \n",
    "plot_DR(x, data['centroids_x'], \"word-space\", algo=\"pca\")\n",
    "plot_DR(z, c, \"topic-space\", algo=\"pca\")\n",
    "plot_DR(z, c, \"topic-space\", algo=\"tsne\")  # This takes a while"
   ]
  },
  {
   "cell_type": "code",
   "execution_count": null,
   "metadata": {
    "collapsed": true
   },
   "outputs": [],
   "source": []
  }
 ],
 "metadata": {
  "anaconda-cloud": {},
  "kernelspec": {
   "display_name": "Python [conda root]",
   "language": "python",
   "name": "conda-root-py"
  },
  "language_info": {
   "codemirror_mode": {
    "name": "ipython",
    "version": 3
   },
   "file_extension": ".py",
   "mimetype": "text/x-python",
   "name": "python",
   "nbconvert_exporter": "python",
   "pygments_lexer": "ipython3",
   "version": "3.5.2"
  }
 },
 "nbformat": 4,
 "nbformat_minor": 2
}
